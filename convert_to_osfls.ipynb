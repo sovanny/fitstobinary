{
 "cells": [
  {
   "cell_type": "code",
   "execution_count": 230,
   "metadata": {},
   "outputs": [],
   "source": [
    "from os import walk\n",
    "\n",
    "fitsfiles = [] \n",
    "for (dirpath, dirnames, filenames) in walk('./fitsfiles'):\n",
    "    for file in filenames:    \n",
    "        if(file.endswith('.fits')):\n",
    "            if('pfss_intoout' in file):\n",
    "                fitsfiles.append((dirpath + '/' + file, 'PFSS_IO'))\n",
    "            elif('pfss_outtoin' in file):\n",
    "                fitsfiles.append((dirpath + '/' + file, 'PFSS_OI'))\n",
    "            elif('scs_outtoin' in file):\n",
    "                fitsfiles.append((dirpath + '/' + file, 'SCS_OI'))\n",
    "    break"
   ]
  },
  {
   "cell_type": "markdown",
   "metadata": {},
   "source": [
    "### Choose indices"
   ]
  },
  {
   "cell_type": "code",
   "execution_count": 246,
   "metadata": {},
   "outputs": [],
   "source": [
    "def everynth(step):\n",
    "    return (range(0,16200, step), 'step' + str(step))\n",
    "\n",
    "indices = everynth(9)"
   ]
  },
  {
   "cell_type": "markdown",
   "metadata": {},
   "source": [
    "### Defintion from OpenSpace function FieldlinesState::saveStateToOsfls\n",
    "    File is structured like this: (for version 0)\n",
    "    0. int                    - version number of binary state file! (in case something needs to be altered in the future, then increase CurrentVersion)\n",
    "    1. double                 - _triggerTime\n",
    "    2. int                    - _model\n",
    "    3. bool                   - _isMorphable\n",
    "    4. size_t                 - Number of lines in the state  == _lineStart.size() == _lineCount.size()\n",
    "    5. size_t                 - Total number of vertex points  == _vertexPositions.size() == _extraQuantities.size()\n",
    "    6. size_t                 - Number of extra quantites  == _extraQuantities.size() == _extraQuantityNames.size()\n",
    "    7. site_t                 - Number of total bytes that ALL _extraQuantityNames  consists of (Each such name is stored as a c_str which means it ends with the null char '\\0' )\n",
    "    8. std::vector<GLint>     - _lineStart\n",
    "    9. std::vector<GLsizei>   - _lineCount\n",
    "    10. std::vector<glm::vec3> - _vertexPositions\n",
    "    11. std::vector<float>     - _extraQuantities\n",
    "    12. array of c_str         - Strings naming the extra quantities (elements of _extraQuantityNames). Each string ends with null char '\\0'"
   ]
  },
  {
   "cell_type": "code",
   "execution_count": 232,
   "metadata": {},
   "outputs": [],
   "source": [
    "import math, numpy\n",
    "\n",
    "def sph2cart(coord):\n",
    "    return [\n",
    "         coord[2] * math.sin(coord[1]) * math.cos(coord[0]), \n",
    "         coord[2] * math.sin(coord[1]) * math.sin(coord[0]),\n",
    "         coord[2] * math.cos(coord[1])\n",
    "    ]\n",
    "\n",
    "def coord2datarow(coord):\n",
    "    sph = sph2cart(coord[0:3])\n",
    "    sph.append(abs(coord[5]))\n",
    "    return [numpy.float32(x) for x in sph] "
   ]
  },
  {
   "cell_type": "code",
   "execution_count": 233,
   "metadata": {},
   "outputs": [],
   "source": [
    "from enum import Enum\n",
    "class Model(Enum):\n",
    "    Batsrus = 0\n",
    "    Enlil = 1\n",
    "    Pfss = 2\n",
    "    Wsa = 3\n",
    "    Invalid = 5"
   ]
  },
  {
   "cell_type": "code",
   "execution_count": 248,
   "metadata": {
    "scrolled": true
   },
   "outputs": [],
   "source": [
    "from astropy.io import fits\n",
    "from astropy.time import Time\n",
    "\n",
    "def toOsfls(filename, modelname, indices,  typename):\n",
    "    fl_fits = fits.open(filename)\n",
    "    fl_data = fl_fits[0].data\n",
    "    time = Time(fl_fits[0].header['OBSJUL'], format='jd')\n",
    "    fl_fits.close()\n",
    "\n",
    "    versionNumber = 0\n",
    "    triggerTime = time.jd # 2458606.1667\n",
    "    pathSafeTimeString = time.fits.replace(':', '-') #'2019-05-02T16-00-02.880'\n",
    "    fileName = pathSafeTimeString + '.osfls'\n",
    "\n",
    "    model = Model.Wsa.value\n",
    "    isMorphable = False\n",
    "\n",
    "    nVert = 0\n",
    "    lineStart = []\n",
    "    lineCount = []\n",
    "    vertexPositions = []\n",
    "    extraQuantities = []\n",
    "\n",
    "    for i in indices:\n",
    "        points = [coord2datarow(pt) for pt in fl_data[i] if pt[0] > -900] \n",
    "        if (len(points) < 2): continue\n",
    "        lineStart.append(nVert)\n",
    "        nVert += len(points)\n",
    "        lineCount.append(len(points))\n",
    "        [vertexPositions.extend(pt[0:3]) for pt in points] # extend to unfold elements\n",
    "        [extraQuantities.append(pt[3]) for pt in points]\n",
    "\n",
    "    nLines = len(lineStart)\n",
    "\n",
    "    nExtras = 1\n",
    "    extraQuantityNames = ['b-f mag\\0']\n",
    "    nStringBytes = sum([len(s) for s in extraQuantityNames])\n",
    "    allNamesInOne = ''\n",
    "    for s in extraQuantityNames:\n",
    "        allNamesInOne += s\n",
    "    \n",
    "    # Prepare data for writing to binary. Using Struct and pack\n",
    "    typestr = '= i d i ? Q Q Q Q %sl %sL %sf %sf %ss' % (nLines, nLines, 3*nVert, nVert, nStringBytes)\n",
    "    struct_to_write = struct.Struct(typestr)\n",
    "    print('Format string  :', struct_to_write.format)\n",
    "    print('Uses           :', struct_to_write.size, 'bytes')\n",
    "    values_to_write = (versionNumber, triggerTime, model, isMorphable, nLines, nVert, nExtras, nStringBytes)\n",
    "    values_to_write += (*lineStart, *lineCount, *vertexPositions, *extraQuantities, allNamesInOne.encode('utf-8'))\n",
    "    \n",
    "    buffer = ctypes.create_string_buffer(struct_to_write.size)    \n",
    "    struct_to_write.pack_into(b, 0, *values_to_write)\n",
    "    \n",
    "    fout = open('./' + modelname + '/' + typename + '_' + pathSafeTimeString +'.osfls', 'wb')\n",
    "    fout.write(buffer)\n",
    "    fout.close()\n"
   ]
  },
  {
   "cell_type": "markdown",
   "metadata": {},
   "source": [
    "### Make into osfls format"
   ]
  },
  {
   "cell_type": "code",
   "execution_count": 249,
   "metadata": {},
   "outputs": [
    {
     "name": "stdout",
     "output_type": "stream",
     "text": [
      "Format string  : = i d i ? Q Q Q Q 1800l 1800L 860907f 286969f 8s\n",
      "Uses           : 4605961 bytes\n",
      "Finished converting ./fitsfiles/201905020800R000_trace_pfss_outtoin_tracing.fits after 1.6911678314208984 seconds: \n",
      "Format string  : = i d i ? Q Q Q Q 1800l 1800L 1135710f 378570f 8s\n",
      "Uses           : 6071577 bytes\n",
      "Finished converting ./fitsfiles/201905020800R000_trace_scs_outtoin_tracing.fits after 3.8425137996673584 seconds: \n",
      "Format string  : = i d i ? Q Q Q Q 1800l 1800L 1136169f 378723f 8s\n",
      "Uses           : 6074025 bytes\n",
      "Finished converting ./fitsfiles/201905021200R000_trace_scs_outtoin_tracing.fits after 6.456794023513794 seconds: \n",
      "Format string  : = i d i ? Q Q Q Q 1800l 1800L 860328f 286776f 8s\n",
      "Uses           : 4602873 bytes\n",
      "Finished converting ./fitsfiles/201905021600R000_trace_pfss_outtoin_tracing.fits after 8.116503953933716 seconds: \n",
      "Format string  : = i d i ? Q Q Q Q 1800l 1800L 860064f 286688f 8s\n",
      "Uses           : 4601465 bytes\n",
      "Finished converting ./fitsfiles/201905022000R000_trace_pfss_outtoin_tracing.fits after 9.781094789505005 seconds: \n",
      "Format string  : = i d i ? Q Q Q Q 1800l 1800L 860844f 286948f 8s\n",
      "Uses           : 4605625 bytes\n",
      "Finished converting ./fitsfiles/201905021200R000_trace_pfss_outtoin_tracing.fits after 11.470800876617432 seconds: \n",
      "Format string  : = i d i ? Q Q Q Q 1800l 1800L 1135677f 378559f 8s\n",
      "Uses           : 6071401 bytes\n",
      "Finished converting ./fitsfiles/201905021600R000_trace_scs_outtoin_tracing.fits after 13.648957967758179 seconds: \n",
      "Format string  : = i d i ? Q Q Q Q 1662l 1662L 91791f 30597f 8s\n",
      "Uses           : 502905 bytes\n",
      "Finished converting ./fitsfiles/201905020800R000_trace_pfss_intoout_tracing.fits after 13.999996900558472 seconds: \n",
      "Format string  : = i d i ? Q Q Q Q 1800l 1800L 1135638f 378546f 8s\n",
      "Uses           : 6071193 bytes\n",
      "Finished converting ./fitsfiles/201905022000R000_trace_scs_outtoin_tracing.fits after 16.155966997146606 seconds: \n",
      "Format string  : = i d i ? Q Q Q Q 1644l 1644L 91659f 30553f 8s\n",
      "Uses           : 502057 bytes\n",
      "Finished converting ./fitsfiles/201905021200R000_trace_pfss_intoout_tracing.fits after 16.50844693183899 seconds: \n",
      "Format string  : = i d i ? Q Q Q Q 1665l 1665L 92283f 30761f 8s\n",
      "Uses           : 505553 bytes\n",
      "Finished converting ./fitsfiles/201905021600R000_trace_pfss_intoout_tracing.fits after 16.850286960601807 seconds: \n",
      "Format string  : = i d i ? Q Q Q Q 1666l 1666L 92268f 30756f 8s\n",
      "Uses           : 505481 bytes\n",
      "Finished converting ./fitsfiles/201905022000R000_trace_pfss_intoout_tracing.fits after 17.19327211380005 seconds: \n",
      "Execution time for type step9: 17.193420886993408 seconds\n"
     ]
    }
   ],
   "source": [
    "import time\n",
    "start_time = time.time()\n",
    "for fitsfile in fitsfiles:\n",
    "    toOsfls(fitsfile[0], fitsfile[1], indices[0], indices[1])\n",
    "    print('Finished converting {} after {} seconds: '.format(fitsfile[0],time.time()-start_time))\n",
    "print(\"Execution time for type {}: {} seconds\".format(indices[1], time.time()-start_time))\n"
   ]
  },
  {
   "cell_type": "code",
   "execution_count": 225,
   "metadata": {},
   "outputs": [],
   "source": []
  }
 ],
 "metadata": {
  "kernelspec": {
   "display_name": "Python 3",
   "language": "python",
   "name": "python3"
  },
  "language_info": {
   "codemirror_mode": {
    "name": "ipython",
    "version": 3
   },
   "file_extension": ".py",
   "mimetype": "text/x-python",
   "name": "python",
   "nbconvert_exporter": "python",
   "pygments_lexer": "ipython3",
   "version": "3.7.1"
  }
 },
 "nbformat": 4,
 "nbformat_minor": 2
}
