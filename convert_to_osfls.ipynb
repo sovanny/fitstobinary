{
 "cells": [
  {
   "cell_type": "code",
   "execution_count": 254,
   "metadata": {},
   "outputs": [],
   "source": [
    "from os import walk\n",
    "\n",
    "fitsfiles = [] \n",
    "for (dirpath, dirnames, filenames) in walk('./fitsfiles'):\n",
    "    for file in filenames:    \n",
    "        if(file.endswith('.fits')):\n",
    "            if('pfss_intoout' in file):\n",
    "                fitsfiles.append((dirpath + '/' + file, 'PFSS_IO'))\n",
    "            elif('pfss_outtoin' in file):\n",
    "                fitsfiles.append((dirpath + '/' + file, 'PFSS_OI'))\n",
    "            elif('scs_outtoin' in file):\n",
    "                fitsfiles.append((dirpath + '/' + file, 'SCS_OI'))\n",
    "    break"
   ]
  },
  {
   "cell_type": "markdown",
   "metadata": {},
   "source": [
    "### Choose indices"
   ]
  },
  {
   "cell_type": "code",
   "execution_count": 255,
   "metadata": {},
   "outputs": [],
   "source": [
    "def everynth(step):\n",
    "    return (range(0,16200, step), 'step' + str(step))\n",
    "\n",
    "indices = everynth(25)"
   ]
  },
  {
   "cell_type": "markdown",
   "metadata": {},
   "source": [
    "### Defintion from OpenSpace function FieldlinesState::saveStateToOsfls\n",
    "    File is structured like this: (for version 0)\n",
    "    0. int                    - version number of binary state file! (in case something needs to be altered in the future, then increase CurrentVersion)\n",
    "    1. double                 - _triggerTime\n",
    "    2. int                    - _model\n",
    "    3. bool                   - _isMorphable\n",
    "    4. size_t                 - Number of lines in the state  == _lineStart.size() == _lineCount.size()\n",
    "    5. size_t                 - Total number of vertex points  == _vertexPositions.size() == _extraQuantities.size()\n",
    "    6. size_t                 - Number of extra quantites  == _extraQuantities.size() == _extraQuantityNames.size()\n",
    "    7. site_t                 - Number of total bytes that ALL _extraQuantityNames  consists of (Each such name is stored as a c_str which means it ends with the null char '\\0' )\n",
    "    8. std::vector<GLint>     - _lineStart\n",
    "    9. std::vector<GLsizei>   - _lineCount\n",
    "    10. std::vector<glm::vec3> - _vertexPositions\n",
    "    11. std::vector<float>     - _extraQuantities\n",
    "    12. array of c_str         - Strings naming the extra quantities (elements of _extraQuantityNames). Each string ends with null char '\\0'"
   ]
  },
  {
   "cell_type": "code",
   "execution_count": 256,
   "metadata": {},
   "outputs": [],
   "source": [
    "import math, numpy\n",
    "\n",
    "def sph2cart(coord):\n",
    "    return [\n",
    "         coord[2] * math.sin(coord[1]) * math.cos(coord[0]), \n",
    "         coord[2] * math.sin(coord[1]) * math.sin(coord[0]),\n",
    "         coord[2] * math.cos(coord[1])\n",
    "    ]\n",
    "\n",
    "def coord2datarow(coord):\n",
    "    sph = sph2cart(coord[0:3])\n",
    "    sph.append(abs(coord[5]))\n",
    "    return [numpy.float32(x) for x in sph] "
   ]
  },
  {
   "cell_type": "code",
   "execution_count": 257,
   "metadata": {},
   "outputs": [],
   "source": [
    "from enum import Enum\n",
    "class Model(Enum):\n",
    "    Batsrus = 0\n",
    "    Enlil = 1\n",
    "    Pfss = 2\n",
    "    Wsa = 3\n",
    "    Invalid = 5"
   ]
  },
  {
   "cell_type": "code",
   "execution_count": 309,
   "metadata": {
    "scrolled": true
   },
   "outputs": [],
   "source": [
    "from astropy.io import fits\n",
    "from astropy.time import Time\n",
    "\n",
    "def toOsfls(filename, modelname, indices,  typename):\n",
    "    fl_fits = fits.open(filename)\n",
    "    fl_data = fl_fits[0].data\n",
    "    fl_fits.close()\n",
    "    versionNumber = 0\n",
    "    [triggerTime, pathSafeTimeString] = obstimeToJ2000(fl_fits[0].header['OBSTIME'])\n",
    "    print(\"TriggerTime: \",triggerTime)\n",
    "    print(\"pathSafeTimeString: \",pathSafeTimeString)\n",
    "    fileName = pathSafeTimeString + '.osfls'\n",
    "\n",
    "    model = Model.Wsa.value\n",
    "    isMorphable = False\n",
    "\n",
    "    nVert = 0\n",
    "    lineStart = []\n",
    "    lineCount = []\n",
    "    vertexPositions = []\n",
    "    extraQuantities = []\n",
    "\n",
    "    for i in indices:\n",
    "        points = [coord2datarow(pt) for pt in fl_data[i] if pt[0] > -900] \n",
    "        if (len(points) < 2): continue\n",
    "        lineStart.append(nVert)\n",
    "        nVert += len(points)\n",
    "        lineCount.append(len(points))\n",
    "        [vertexPositions.extend(pt[0:3]) for pt in points] # extend to unfold elements\n",
    "        [extraQuantities.append(pt[3]) for pt in points]\n",
    "\n",
    "    nLines = len(lineStart)\n",
    "\n",
    "    nExtras = 1\n",
    "    extraQuantityNames = ['b-f mag\\0']\n",
    "    nStringBytes = sum([len(s) for s in extraQuantityNames])\n",
    "    allNamesInOne = ''\n",
    "    for s in extraQuantityNames:\n",
    "        allNamesInOne += s\n",
    "    \n",
    "    # Prepare data for writing to binary. Using Struct and pack\n",
    "    typestr = '= i d i ? Q Q Q Q %sl %sL %sf %sf %ss' % (nLines, nLines, 3*nVert, nVert, nStringBytes)\n",
    "    struct_to_write = struct.Struct(typestr)\n",
    "    #print('Format string  :', struct_to_write.format)\n",
    "    print('Uses           :', struct_to_write.size, 'bytes')\n",
    "    values_to_write = (versionNumber, triggerTime, model, isMorphable, nLines, nVert, nExtras, nStringBytes)\n",
    "    values_to_write += (*lineStart, *lineCount, *vertexPositions, *extraQuantities, allNamesInOne.encode('utf-8'))\n",
    "    \n",
    "    buffer = ctypes.create_string_buffer(struct_to_write.size)    \n",
    "    struct_to_write.pack_into(buffer, 0, *values_to_write)\n",
    "    \n",
    "    fout = open('./' + modelname + '/' + typename + '_' + fileName, 'wb')\n",
    "    fout.write(buffer)\n",
    "    fout.close()\n"
   ]
  },
  {
   "cell_type": "markdown",
   "metadata": {},
   "source": [
    "### Make into osfls format"
   ]
  },
  {
   "cell_type": "code",
   "execution_count": 321,
   "metadata": {},
   "outputs": [
    {
     "name": "stdout",
     "output_type": "stream",
     "text": [
      "TriggerTime:  610056000.0000134\n",
      "pathSafeTimeString:  2019-05-02T08-00-00.000\n",
      "Uses           : 1659145 bytes\n",
      "Finished converting ./fitsfiles/201905020800R000_trace_pfss_outtoin_tracing.fits after 0.6246249675750732 seconds: \n",
      "TriggerTime:  610056000.0000134\n",
      "pathSafeTimeString:  2019-05-02T08-00-00.000\n",
      "Uses           : 2186761 bytes\n",
      "Finished converting ./fitsfiles/201905020800R000_trace_scs_outtoin_tracing.fits after 1.4091100692749023 seconds: \n",
      "TriggerTime:  610070400.0\n",
      "pathSafeTimeString:  2019-05-02T12-00-00.000\n",
      "Uses           : 2190089 bytes\n",
      "Finished converting ./fitsfiles/201905021200R000_trace_scs_outtoin_tracing.fits after 2.7533059120178223 seconds: \n",
      "TriggerTime:  610084799.9999866\n",
      "pathSafeTimeString:  2019-05-02T16-00-00.000\n",
      "Uses           : 1657577 bytes\n",
      "Finished converting ./fitsfiles/201905021600R000_trace_pfss_outtoin_tracing.fits after 3.766940116882324 seconds: \n",
      "TriggerTime:  610099200.0000134\n",
      "pathSafeTimeString:  2019-05-02T20-00-00.000\n",
      "Uses           : 1656777 bytes\n",
      "Finished converting ./fitsfiles/201905022000R000_trace_pfss_outtoin_tracing.fits after 4.864858865737915 seconds: \n",
      "TriggerTime:  610070400.0\n",
      "pathSafeTimeString:  2019-05-02T12-00-00.000\n",
      "Uses           : 1658505 bytes\n",
      "Finished converting ./fitsfiles/201905021200R000_trace_pfss_outtoin_tracing.fits after 5.837924003601074 seconds: \n",
      "TriggerTime:  610084799.9999866\n",
      "pathSafeTimeString:  2019-05-02T16-00-00.000\n",
      "Uses           : 2180841 bytes\n",
      "Finished converting ./fitsfiles/201905021600R000_trace_scs_outtoin_tracing.fits after 7.14047908782959 seconds: \n",
      "TriggerTime:  610056000.0000134\n",
      "pathSafeTimeString:  2019-05-02T08-00-00.000\n",
      "Uses           : 183569 bytes\n",
      "Finished converting ./fitsfiles/201905020800R000_trace_pfss_intoout_tracing.fits after 7.465537071228027 seconds: \n",
      "TriggerTime:  610099200.0000134\n",
      "pathSafeTimeString:  2019-05-02T20-00-00.000\n",
      "Uses           : 2194617 bytes\n",
      "Finished converting ./fitsfiles/201905022000R000_trace_scs_outtoin_tracing.fits after 8.774257898330688 seconds: \n",
      "TriggerTime:  610070400.0\n",
      "pathSafeTimeString:  2019-05-02T12-00-00.000\n",
      "Uses           : 186585 bytes\n",
      "Finished converting ./fitsfiles/201905021200R000_trace_pfss_intoout_tracing.fits after 9.157752990722656 seconds: \n",
      "TriggerTime:  610084799.9999866\n",
      "pathSafeTimeString:  2019-05-02T16-00-00.000\n",
      "Uses           : 185833 bytes\n",
      "Finished converting ./fitsfiles/201905021600R000_trace_pfss_intoout_tracing.fits after 9.28427505493164 seconds: \n",
      "TriggerTime:  610099200.0000134\n",
      "pathSafeTimeString:  2019-05-02T20-00-00.000\n",
      "Uses           : 187409 bytes\n",
      "Finished converting ./fitsfiles/201905022000R000_trace_pfss_intoout_tracing.fits after 9.607479810714722 seconds: \n",
      "Execution time for type step25: 9.607621908187866 seconds\n"
     ]
    }
   ],
   "source": [
    "import time\n",
    "start_time = time.time()\n",
    "for fitsfile in fitsfiles:\n",
    "    toOsfls(fitsfile[0], fitsfile[1], indices[0], indices[1])\n",
    "    print('Finished converting {} after {} seconds: '.format(fitsfile[0],time.time()-start_time))\n",
    "print(\"Execution time for type {}: {} seconds\".format(indices[1], time.time()-start_time))\n"
   ]
  },
  {
   "cell_type": "code",
   "execution_count": 320,
   "metadata": {},
   "outputs": [
    {
     "data": {
      "text/plain": [
       "[610099200.0000134, '2019-05-02T20-00-00.000']"
      ]
     },
     "execution_count": 320,
     "metadata": {},
     "output_type": "execute_result"
    }
   ],
   "source": [
    "\n",
    "\n",
    "def obstimeToJ2000(ot):\n",
    "    timefits = ot[0:4] + '-' + ot[5:7] + '-' + ot[8:10] + 'T'\n",
    "    timefits += ot[11:13] + ot[14:17] + ot[18:21] + '.000'\n",
    "    pathSafeTimeString = timefits.replace(':', '-')\n",
    "    time = Time(timefits, format='fits')\n",
    "    y2000 = Time(2000, format='jyear')\n",
    "    jdaysdelta = time.jd - y2000.jd\n",
    "    jsecs = jdaysdelta*60*60*24\n",
    "    return [jsecs, pathSafeTimeString]\n",
    "\n",
    "fl_fits = fits.open(fitsfiles[11][0])\n",
    "obstimeToJ2000(fl_fits[0].header['OBSTIME'])"
   ]
  }
 ],
 "metadata": {
  "kernelspec": {
   "display_name": "Python 3",
   "language": "python",
   "name": "python3"
  },
  "language_info": {
   "codemirror_mode": {
    "name": "ipython",
    "version": 3
   },
   "file_extension": ".py",
   "mimetype": "text/x-python",
   "name": "python",
   "nbconvert_exporter": "python",
   "pygments_lexer": "ipython3",
   "version": "3.7.1"
  }
 },
 "nbformat": 4,
 "nbformat_minor": 2
}
