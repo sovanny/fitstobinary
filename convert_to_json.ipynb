{
 "cells": [
  {
   "cell_type": "markdown",
   "metadata": {},
   "source": [
    "### Function to convert fits to json, given indices\n",
    "Outputs to ./output_json"
   ]
  },
  {
   "cell_type": "code",
   "execution_count": 70,
   "metadata": {},
   "outputs": [],
   "source": [
    "import json, math, numpy\n",
    "\n",
    "def sph2cart(coord):\n",
    "    return [\n",
    "         coord[2] * math.sin(coord[1]) * math.cos(coord[0]), \n",
    "         coord[2] * math.sin(coord[1]) * math.sin(coord[0]),\n",
    "         coord[2] * math.cos(coord[1])\n",
    "    ]\n",
    "\n",
    "def coord2datarow(coord):\n",
    "    sph = sph2cart(coord[0:3])\n",
    "    sph.append(abs(coord[5]))\n",
    "    #ugly workaround for json to encode to single precision\n",
    "    return [float(str(numpy.float32(x))) for x in sph]"
   ]
  },
  {
   "cell_type": "code",
   "execution_count": 74,
   "metadata": {},
   "outputs": [],
   "source": [
    "from astropy.io import fits\n",
    "\n",
    "def toJson(filename, modelname, indices,  typename):\n",
    "    fl_fits = fits.open(filename)\n",
    "    ot = fl_fits[0].header['OBSTIME']\n",
    "    time = ot[0:4] + '-' + ot[5:7] + '-' + ot[8:10] + 'T'\n",
    "    time += ot[11:13] + ot[14:17] + ot[18:21] + '.000'\n",
    "    dict_to_write = {}\n",
    "    for i in indices:\n",
    "        fieldline = fl_fits[0].data[i]\n",
    "        data = [coord2datarow(pt) for pt in fieldline if pt[0] > -900] \n",
    "        if (len(data) < 2):                                      \n",
    "            continue\n",
    "        adict = {\n",
    "            str(i): {\n",
    "                \"time\": time,\n",
    "                 \"trace\": {\n",
    "                     \"columns\": [\"x\",\"y\",\"z\",\"b-r\"],\n",
    "                     \"data\": data }}}\n",
    "        dict_to_write.update(adict)\n",
    "    \n",
    "    fl_fits.close()\n",
    "    outputname = './output_json/' + modelname + '_' + typename + '_' + time + '.json'\n",
    "    with open(outputname, 'w') as outfile:\n",
    "        json.dump(dict_to_write, outfile)"
   ]
  },
  {
   "cell_type": "markdown",
   "metadata": {},
   "source": [
    "### Get all filenames\n",
    "Directory name is fitsfiles. Deduce the model typ from the filename."
   ]
  },
  {
   "cell_type": "code",
   "execution_count": 78,
   "metadata": {},
   "outputs": [
    {
     "data": {
      "text/plain": [
       "[('./fitsfiles/201905020800R000_trace_pfss_outtoin_tracing.fits', 'PFSS_OI'),\n",
       " ('./fitsfiles/201905020800R000_trace_scs_outtoin_tracing.fits', 'SCS_OI'),\n",
       " ('./fitsfiles/201905021200R000_trace_scs_outtoin_tracing.fits', 'SCS_OI'),\n",
       " ('./fitsfiles/201905021600R000_trace_pfss_outtoin_tracing.fits', 'PFSS_OI'),\n",
       " ('./fitsfiles/201905022000R000_trace_pfss_outtoin_tracing.fits', 'PFSS_OI'),\n",
       " ('./fitsfiles/201905021200R000_trace_pfss_outtoin_tracing.fits', 'PFSS_OI'),\n",
       " ('./fitsfiles/201905021600R000_trace_scs_outtoin_tracing.fits', 'SCS_OI'),\n",
       " ('./fitsfiles/201905020800R000_trace_pfss_intoout_tracing.fits', 'PFSS_IO'),\n",
       " ('./fitsfiles/201905022000R000_trace_scs_outtoin_tracing.fits', 'SCS_OI'),\n",
       " ('./fitsfiles/201905021200R000_trace_pfss_intoout_tracing.fits', 'PFSS_IO'),\n",
       " ('./fitsfiles/201905021600R000_trace_pfss_intoout_tracing.fits', 'PFSS_IO'),\n",
       " ('./fitsfiles/201905022000R000_trace_pfss_intoout_tracing.fits', 'PFSS_IO')]"
      ]
     },
     "execution_count": 78,
     "metadata": {},
     "output_type": "execute_result"
    }
   ],
   "source": [
    "from os import walk\n",
    "\n",
    "fitsfiles = [] \n",
    "for (dirpath, dirnames, filenames) in walk('./fitsfiles'):\n",
    "    for file in filenames:    \n",
    "        if(file.endswith('.fits')):\n",
    "            if('pfss_intoout' in file):\n",
    "                fitsfiles.append((dirpath + '/' + file, 'PFSS_IO'))\n",
    "            elif('pfss_outtoin' in file):\n",
    "                fitsfiles.append((dirpath + '/' + file, 'PFSS_OI'))\n",
    "            elif('scs_outtoin' in file):\n",
    "                fitsfiles.append((dirpath + '/' + file, 'SCS_OI'))\n",
    "    break"
   ]
  },
  {
   "cell_type": "markdown",
   "metadata": {},
   "source": [
    "### Create indices\n",
    "Every n:th, boundary filtering, last 540 or whatever you like"
   ]
  },
  {
   "cell_type": "code",
   "execution_count": 66,
   "metadata": {},
   "outputs": [],
   "source": [
    "def everynth(step):\n",
    "    return (range(0,16200, step), 'step' + str(step))\n",
    "\n",
    "indices = everynth(25)"
   ]
  },
  {
   "cell_type": "markdown",
   "metadata": {},
   "source": [
    "### Write to json\n",
    "This takes a few seconds"
   ]
  },
  {
   "cell_type": "code",
   "execution_count": 77,
   "metadata": {},
   "outputs": [
    {
     "name": "stdout",
     "output_type": "stream",
     "text": [
      "Finished converting ./fitsfiles/201905020800R000_trace_pfss_outtoin_tracing.fits after 4.373383283615112 seconds: \n",
      "Finished converting ./fitsfiles/201905020800R000_trace_scs_outtoin_tracing.fits after 9.925315141677856 seconds: \n",
      "Finished converting ./fitsfiles/201905021200R000_trace_scs_outtoin_tracing.fits after 17.447620153427124 seconds: \n",
      "Finished converting ./fitsfiles/201905021600R000_trace_pfss_outtoin_tracing.fits after 23.61156725883484 seconds: \n",
      "Finished converting ./fitsfiles/201905022000R000_trace_pfss_outtoin_tracing.fits after 27.901528120040894 seconds: \n",
      "Finished converting ./fitsfiles/201905021200R000_trace_pfss_outtoin_tracing.fits after 33.988930225372314 seconds: \n",
      "Finished converting ./fitsfiles/201905021600R000_trace_scs_outtoin_tracing.fits after 41.508538246154785 seconds: \n",
      "Finished converting ./fitsfiles/201905020800R000_trace_pfss_intoout_tracing.fits after 42.88757610321045 seconds: \n",
      "Finished converting ./fitsfiles/201905021200R000_trace_pfss_intoout_tracing.fits after 44.331459283828735 seconds: \n",
      "Finished converting ./fitsfiles/201905021600R000_trace_pfss_intoout_tracing.fits after 44.97729516029358 seconds: \n",
      "Finished converting ./fitsfiles/201905022000R000_trace_pfss_intoout_tracing.fits after 46.354321241378784 seconds: \n",
      "Execution time for type step9: 46.354480266571045 seconds\n"
     ]
    }
   ],
   "source": [
    "import time\n",
    "start_time = time.time()\n",
    "for fitsfile in fitsfiles:\n",
    "    toJson(fitsfile[0], fitsfile[1], indices[0], indices[1])\n",
    "    print('Finished converting {} after {} seconds: '.format(fitsfile[0],time.time()-start_time))\n",
    "print(\"Execution time for type {}: {} seconds\".format(indices[1], time.time()-start_time))"
   ]
  },
  {
   "cell_type": "code",
   "execution_count": null,
   "metadata": {},
   "outputs": [],
   "source": []
  }
 ],
 "metadata": {
  "kernelspec": {
   "display_name": "Python 3",
   "language": "python",
   "name": "python3"
  },
  "language_info": {
   "codemirror_mode": {
    "name": "ipython",
    "version": 3
   },
   "file_extension": ".py",
   "mimetype": "text/x-python",
   "name": "python",
   "nbconvert_exporter": "python",
   "pygments_lexer": "ipython3",
   "version": "3.7.1"
  }
 },
 "nbformat": 4,
 "nbformat_minor": 2
}
